{
  "cells": [
    {
      "cell_type": "markdown",
      "metadata": {
        "id": "tsD4YVAe_Te2"
      },
      "source": [
        "# Problem 1\n",
        "Bir sayının 7'ye bölünebilir olup olmadığını kontrol etmek \n",
        "için bir program yazın.\n",
        "\n",
        "İpucu: Mod operatörünü (%) kullanabilirsiniz."
      ]
    },
    {
      "cell_type": "code",
      "execution_count": 11,
      "metadata": {
        "id": "NGjvNwKx_Te7"
      },
      "outputs": [
        {
          "name": "stdout",
          "output_type": "stream",
          "text": [
            "1114 sayısı 7'ye bölünmüyor\n"
          ]
        }
      ],
      "source": [
        "sayı= int(input(\"sayı giriniz:\"))\n",
        "if sayı %7==0:\n",
        "    print(f\" {sayı} sayısı 7'ye bölünüyor\")\n",
        "else :\n",
        "    print(f\"{sayı} sayısı 7'ye bölünmüyor\")"
      ]
    },
    {
      "cell_type": "markdown",
      "metadata": {
        "id": "Kg3qiBAI_Te8"
      },
      "source": [
        "# Problem 2\n",
        "Kullanıcıdan vize ve final notu isteyin. Girilen vize notunun %40’ı ve \n",
        "girilen finalnotunun ise %60’ı alınarak yıl sonu not ortalaması hesaplanacaktır. \n",
        "\n",
        "Bu not ortalaması eğer 85 ve üzeri ise AA, \n",
        "\n",
        "75 ve 85 arasında ise BA, \n",
        "\n",
        "70 ve 75 arasında ise BB, \n",
        "\n",
        "65 ve 70 arasında ise CB,\n",
        "\n",
        "60 ve 65 arasında ise CC,\n",
        "\n",
        "55 ve 60 arasında ise DC,\n",
        "\n",
        "50 ve 55 arasında ise DD olarak hesaplanacaktır. \n",
        "\n",
        "Bu öğrencinin yıl sonu toplam notu 50’nin altında ise FF ile dersten kalacaktır. \n",
        "\n",
        "Ayrıca öğrencinin final notu 50’nin altında ise direkt FF ile kalacaktır."
      ]
    },
    {
      "cell_type": "code",
      "execution_count": 9,
      "metadata": {
        "id": "MXTtCxI1_Te8"
      },
      "outputs": [
        {
          "name": "stdout",
          "output_type": "stream",
          "text": [
            "DC ile geçtiniz.\n"
          ]
        }
      ],
      "source": [
        "vize=int(input(\"Vize notunu giriniz:\"))\n",
        "final=int(input(\"final notunu giriniz:\"))\n",
        "ortalama= vize*0.4 + final*0.6\n",
        "if final<50:\n",
        "    print(\"FF ile kaldınız.\")\n",
        "elif ortalama >=85:\n",
        "    print(\"AA ile geçtiniz.\")\n",
        "elif 75<= ortalama <85:\n",
        "    print(\"BA ile geçtiniz.\")\n",
        "elif 70<= ortalama <75:\n",
        "    print(\"BB ile geçtiniz.\")\n",
        "elif 65<= ortalama <70:\n",
        "    print(\"CB ile geçtiniz.\")\n",
        "elif 60<= ortalama <65:\n",
        "   print(\"CC ile geçtiniz.\")\n",
        "elif 55<= ortalama <60:\n",
        "   print(\"DC ile geçtiniz.\")\n",
        "elif 50<= ortalama <55:\n",
        "   print(\"DD ile geçtiniz.\")\n",
        "else: \n",
        "    print(\"FF ile dersten kaldınız.\")\n",
        "   "
      ]
    },
    {
      "cell_type": "markdown",
      "metadata": {
        "id": "tAoRYCTC_Te8"
      },
      "source": [
        "# Problem 3\n",
        "İki YetGenli Zirve'de karşılaşıyorlar. Birbirlerini tanımak için sorular soruyorlar. Birbirlerine yaşlarını soruyorlar. Akıllarına bir Python programı yazıp, yaşlarını ve isimlerini giriyorlar. Büyük olanın yaşını ekrana yazdıran programı yazıyorlar. Sende bu iki YetGenli'ye destek olmak ister misin?\n",
        "\n",
        "```\n",
        "Birinci YetGenlinin ismi: Ahmet\n",
        "Birinci YetGenlinin yaşı : 20\n",
        "İkinci YetGenlinin ismi: Mehmet\n",
        "İkinci YetGenlinin yaşı : 25\n",
        "Mehmet'in yaşı daha büyük ve yaşı 25'tir.\n",
        "```"
      ]
    },
    {
      "cell_type": "code",
      "execution_count": 7,
      "metadata": {
        "id": "bPjE8W0i_Te8"
      },
      "outputs": [
        {
          "name": "stdout",
          "output_type": "stream",
          "text": [
            "mehmet'in yası daha büyük ve yası 25.\n"
          ]
        }
      ],
      "source": [
        "isim1= input(\"Birinci YetGenli'nin ismini giriniz:\")\n",
        "isim2= input(\"İkinci YetGenli'nin ismini giriniz:\")\n",
        "yas1= int(input(\"Birinci YetGenlinin yasını giriniz:\"))\n",
        "yas2= int(input(\"İkinci YetGenlinin yasını giriniz:\")) \n",
        "if yas1>yas2:\n",
        "    print(f\" {isim1}'in yaşı daha büyük ve yaşı {yas1}.\")\n",
        "elif yas2>yas1:\n",
        "    print(f\"{isim2}'in yası daha büyük ve yası {yas2}.\")\n",
        "else:\n",
        "    print(f\"{isim1}ve {isim2} aynı yaştadır.\")\n"
      ]
    },
    {
      "cell_type": "markdown",
      "metadata": {
        "id": "zBVv8Tyg_Te9"
      },
      "source": [
        "# Problem 4\n",
        "Pandemi döneminde AVM'lerde ateş ölçümü yapılıyor. AVM'ye giren kişinin ateş ölçümü 37.5 derecenin altında ise girişe izin veriliyor. 37.5 derecenin üstünde ise girişe izin verilmiyor. AVM'ye girişe izin verilip verilmediğini ekrana yazdıran bir program yazın.\n",
        "\n",
        "Program sonunda şöyle bir çıktı elde etmelisiniz:\n",
        "\n",
        "```\n",
        "Ateşiniz 37.5 derece. AVM'ye girebilirsin! Maske takmayı unutma!\n",
        "Ateşiniz 37.6 derece. AVM'ye giremezsin! Hemen evine dön!\n",
        "```"
      ]
    },
    {
      "cell_type": "code",
      "execution_count": 8,
      "metadata": {
        "id": "TSAXs8et_Te9"
      },
      "outputs": [
        {
          "name": "stdout",
          "output_type": "stream",
          "text": [
            "Ateşiniz 37.5 derece. AVM'ye girebilirsin! Maske takmayı unutma!\n"
          ]
        }
      ],
      "source": [
        "ates= float(input(\"ates olcum sonucunu gırınız:\"))\n",
        "if ates == 37.5:\n",
        "    print(\"Ateşiniz 37.5 derece. AVM'ye girebilirsin! Maske takmayı unutma!\")\n",
        "elif ates> 37.5:\n",
        "    print(f\"Ateşiniz {ates} derece. AVM'ye giremezsin! Hemen evine dön!\")\n",
        "else :\n",
        "    print(\"Avm'ye girebilirsiniz. İyi eğlenceler:\")"
      ]
    },
    {
      "cell_type": "markdown",
      "metadata": {
        "id": "6AEkZrDt_Te9"
      },
      "source": [
        "# Problem 5\n",
        "YetGen bir spor kulübüyle sponsorluk anlaşması yapıyor. Kulüp, sponsorluk anlaşmasına göre her YetGen liderinin beden kitle indeksini hesaplamak istiyor. Spor kulübü, beden kitle indeksini hesaplamak için YetGen Jump Python liderlerinden Berkcan ve Ahmet'i arıyor. Berkcan ve Ahmet, kulübe yardımcı olmak için bir Python programı yazıyorlar. Sende bu iki YetGen liderine destek olmak ister misin?\n",
        "\n",
        "Kullanıcıdan alınan boy ve kilo değerlerine göre beden kitle indeksini hesaplayın ve şu kurallara göre ekrana şu yazıları yazdırın.\n",
        "\n",
        "\n",
        "Beden Kitle İndeksi, kişinin ağırlığının (kg olarak) boyunun karesine (m olarak) bölünmesiyle hesaplanır.\n",
        "\n",
        "\n",
        "```\n",
        " BKİ 18.5'un altındaysa -------> Zayıf\n",
        "\n",
        " BKİ 18.5 ile 25 arasındaysa ------> Normal\n",
        "\n",
        " BKİ 25 ile 30 arasındaysa --------> Fazla Kilolu\n",
        "\n",
        " BKİ 30'un üstündeyse -------------> Obez\n",
        "```\n",
        "\n"
      ]
    },
    {
      "cell_type": "code",
      "execution_count": 4,
      "metadata": {
        "id": "t-XPI_u0_Te-"
      },
      "outputs": [
        {
          "name": "stdout",
          "output_type": "stream",
          "text": [
            " Beden Kitle İndeksiniz 24.83576349943919 : Normal\n"
          ]
        }
      ],
      "source": [
        "kg=float (input(\"kilogram cinsinden vücut ağırlığınızı giriniz:\"))\n",
        "boy= float(input(\"metre cinsinden boyunuzu giriniz:\"))\n",
        "bki= kg/ boy**2\n",
        "if bki<18.5:\n",
        "   print(f\" Beden Kitle İndeksiniz {bki} : Zayıf\")\n",
        "elif 18.5< bki< 25:\n",
        "   print(f\" Beden Kitle İndeksiniz {bki} : Normal\")\n",
        "elif 25< bki<30:\n",
        "   print(f\" Beden Kitle İndeksiniz {bki} : Fazla kilolu\")\n",
        "else:\n",
        "    print(f\" Beden Kitle İndeksiniz {bki} : Obezite\")"
      ]
    },
    {
      "cell_type": "markdown",
      "metadata": {
        "id": "oFsvQyaO_Te-"
      },
      "source": [
        "# Problem 6\n",
        "Kullanıcıdan isim, yaş ve eğitim bilgilerini isteyip ehliyet alabilme  durumunu kontrol ediniz. \n",
        "\n",
        "Ehliyet alma koşulu en az 18 yaşında ve eğitim durumu lise ya da üniversite olmalıdır. "
      ]
    },
    {
      "cell_type": "code",
      "execution_count": 5,
      "metadata": {
        "id": "Tu2mcgco_Te-"
      },
      "outputs": [
        {
          "name": "stdout",
          "output_type": "stream",
          "text": [
            "Merhaba tuba ehliyet almaya hak kazanamadınız.\n"
          ]
        }
      ],
      "source": [
        "isim= input(\"isminizi giriniz:\")\n",
        "yas= int(input(\"yasınızı giriniz:\"))\n",
        "egitim= input(\"egitim durumunuzu giriniz lise, üniversite:\")\n",
        "\n",
        "if yas >= 18 and egitim == \"lise\" or egitim== \"üniversite\":\n",
        "   print(f\"Merhaba {isim} , {yas} yasındasınız ve egitim durumunuz {egitim}. Ehliyet almaya hak kazandınız.\")\n",
        "else:\n",
        "   print(f\"Merhaba {isim} ehliyet almaya hak kazanamadınız.\")"
      ]
    },
    {
      "cell_type": "markdown",
      "metadata": {
        "id": "eUkxVSAE_Te_"
      },
      "source": [
        "# Problem 7\n",
        "Bir yılın artık yıl olup olmadığını kontrol etmek için bir program yazın. \n",
        "Artık yıl kuralı:\n",
        "\n",
        "a) Eğer yılın son iki basamağı (00) ile bitmiyor ve yalnızca 4'e tam bölünüyorsa artık yıldır. Ya da, \n",
        "\n",
        "b) Eğer yıl 400'e tam bölünüyorsa artık yıldır.\n",
        "\n",
        "**Örneğin**\n",
        "```\n",
        "2017 artık yıl değildir.\n",
        "1900 artık yıl değildir\n",
        "2012 artık yıldır.\n",
        "2000 artık yıldır.\n",
        "```"
      ]
    },
    {
      "cell_type": "code",
      "execution_count": 7,
      "metadata": {
        "id": "4uWh8qUL_Te_"
      },
      "outputs": [
        {
          "name": "stdout",
          "output_type": "stream",
          "text": [
            "2024 artık yıldır\n"
          ]
        }
      ],
      "source": [
        "yıl= int(input(\"Yılı giriniz:\"))\n",
        "if yıl%100 !=0 and yıl %4==0:\n",
        "    print(f\"{yıl} artık yıldır\")\n",
        "elif yıl %400==0:\n",
        "    print(f\"{yıl} artık yıldır\")\n",
        "else:\n",
        "    print(f\"{yıl} artık yıl değildir\")"
      ]
    }
  ],
  "metadata": {
    "colab": {
      "provenance": []
    },
    "kernelspec": {
      "display_name": "Python 3.10.5 64-bit",
      "language": "python",
      "name": "python3"
    },
    "language_info": {
      "codemirror_mode": {
        "name": "ipython",
        "version": 3
      },
      "file_extension": ".py",
      "mimetype": "text/x-python",
      "name": "python",
      "nbconvert_exporter": "python",
      "pygments_lexer": "ipython3",
      "version": "3.12.3"
    },
    "orig_nbformat": 4,
    "vscode": {
      "interpreter": {
        "hash": "5026d2d6e7aaaaba093def813beadff083d8733e4a511af01735cbabd156995d"
      }
    }
  },
  "nbformat": 4,
  "nbformat_minor": 0
}
